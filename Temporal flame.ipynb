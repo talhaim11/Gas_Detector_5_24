{
 "cells": [
  {
   "cell_type": "code",
   "execution_count": 1,
   "id": "003caa04",
   "metadata": {},
   "outputs": [],
   "source": [
    "import cv2\n",
    "import numpy as np\n",
    "import cv2 as cv\n",
    "import colorsys\n",
    "import sys\n",
    "import os\n",
    "import imageio\n",
    "import numpy as np\n",
    "from PIL import Image\n",
    "from lxml import etree\n",
    "import pandas as pd\n",
    "from skimage.filters import threshold_otsu\n",
    "from skimage.morphology import closing, square\n",
    "from skimage.measure import label, regionprops\n",
    "#from utils.util_scripts import is_intersection\n",
    "import logging\n",
    "\n",
    "from matplotlib import pyplot as plt\n",
    "from matplotlib.pyplot import figure\n",
    "\n",
    "\n",
    "from keras.models import Sequential\n",
    "from keras.layers import Dense, Dropout\n",
    "from keras.callbacks import ReduceLROnPlateau, EarlyStopping\n"
   ]
  },
  {
   "cell_type": "markdown",
   "id": "313516a3",
   "metadata": {},
   "source": [
    "# Flame size"
   ]
  },
  {
   "cell_type": "code",
   "execution_count": 5,
   "id": "9b0b8abc",
   "metadata": {},
   "outputs": [
    {
     "data": {
      "image/png": "[encoded data removed]",
      "text/plain": [
       "<Figure size 640x480 with 1 Axes>"
      ]
     },
     "metadata": {},
     "output_type": "display_data"
    }
   ],
   "source": [
    "# Initialize plot\n",
    "plt.ion()\n",
    "fig, ax = plt.subplots()\n",
    "areas = []\n",
    "line, = ax.plot([], [])\n",
    "\n",
    "def merge_contours(contours, max_distance=150):\n",
    "    merged_contours = []\n",
    "    used = [False] * len(contours)\n",
    "\n",
    "    def get_centroid(contour):\n",
    "        M = cv2.moments(contour)\n",
    "        if M['m00'] == 0:\n",
    "            return None\n",
    "        return (int(M['m10'] / M['m00']), int(M['m01'] / M['m00']))\n",
    "\n",
    "    for i, c1 in enumerate(contours):\n",
    "        if used[i]:\n",
    "            continue\n",
    "        merged = [c1]\n",
    "        centroid1 = get_centroid(c1)\n",
    "        if centroid1 is None:\n",
    "            continue\n",
    "        for j, c2 in enumerate(contours):\n",
    "            if i != j and not used[j]:\n",
    "                centroid2 = get_centroid(c2)\n",
    "                if centroid2 is None:\n",
    "                    continue\n",
    "                dist = np.linalg.norm(np.array(centroid1) - np.array(centroid2))\n",
    "                if dist < max_distance:  # Merge if within max_distance\n",
    "                    merged.append(c2)\n",
    "                    used[j] = True\n",
    "        merged = np.vstack(merged)\n",
    "        merged_contours.append(merged)\n",
    "        used[i] = True\n",
    "\n",
    "    return merged_contours\n",
    "\n",
    "def extract_features(frame):\n",
    "    img = frame[:, :, 1]\n",
    "    img[0:40, :] = 0\n",
    "    img[frame.shape[0] - 21:frame.shape[0] - 1, :] = 0\n",
    "    img[:, 0:40] = 0\n",
    "    img[:, frame.shape[1] - 21:frame.shape[1] - 1] = 0\n",
    "\n",
    "    _, B2 = cv2.threshold(img, 60, 255, cv2.THRESH_BINARY)\n",
    "    B2 = cv2.morphologyEx(B2, cv2.MORPH_CLOSE, np.ones((10, 10)))\n",
    "\n",
    "    contours, _ = cv2.findContours(B2, cv2.RETR_EXTERNAL, cv2.CHAIN_APPROX_SIMPLE)\n",
    "\n",
    "    # Merge contours that are close to each other\n",
    "    contours = merge_contours(contours)\n",
    "\n",
    "    frame_features = {}\n",
    "\n",
    "    for contour_id, c in enumerate(contours, start=1):\n",
    "        if cv2.contourArea(c) > 100:\n",
    "            rect = cv2.minAreaRect(c)\n",
    "            center, size, angle = rect\n",
    "            width, height = size\n",
    "            area = width * height\n",
    "\n",
    "            # Store features for this contour in the current frame\n",
    "            frame_features[f'centerX_{contour_id}'] = center[0]\n",
    "            frame_features[f'centerY_{contour_id}'] = center[1]\n",
    "            frame_features[f'width_{contour_id}'] = width\n",
    "            frame_features[f'height_{contour_id}'] = height\n",
    "            frame_features[f'angle_{contour_id}'] = angle\n",
    "            frame_features[f'area_{contour_id}'] = area\n",
    "\n",
    "    return frame_features, B2, contours\n",
    "\n",
    "def update_plot(frame_area):\n",
    "    areas.append(frame_area)\n",
    "    line.set_xdata(range(len(areas)))\n",
    "    line.set_ydata(areas)\n",
    "    ax.relim()\n",
    "    ax.autoscale_view()\n",
    "    fig.canvas.draw()\n",
    "    fig.canvas.flush_events()\n",
    "\n",
    "def process_video(video_path):\n",
    "    cap = cv2.VideoCapture(video_path)\n",
    "    all_features = []\n",
    "    max_contours = 0\n",
    "\n",
    "    while True:\n",
    "        ret, frame = cap.read()\n",
    "        if not ret:\n",
    "            break\n",
    "\n",
    "        frame_features, B2, contours = extract_features(frame)\n",
    "        all_features.append(frame_features)\n",
    "        max_contours = max(max_contours, len(contours))\n",
    "\n",
    "        for contour_id in range(1, len(contours) + 1):\n",
    "            center_x = frame_features.get(f'centerX_{contour_id}')\n",
    "            center_y = frame_features.get(f'centerY_{contour_id}')\n",
    "            width = frame_features.get(f'width_{contour_id}')\n",
    "            height = frame_features.get(f'height_{contour_id}')\n",
    "            angle = frame_features.get(f'angle_{contour_id}')\n",
    "            \n",
    "            if center_x is not None and center_y is not None and width is not None and height is not None and angle is not None:\n",
    "                box = cv2.boxPoints(((center_x, center_y), (width, height), angle))\n",
    "                box = np.int0(box)  # Ensure the box is correctly formatted as integer numpy array\n",
    "                frame = cv2.drawContours(frame, [box], 0, (255, 0, 0), 2)\n",
    "\n",
    "        # Show the frame with bounding boxes\n",
    "        cv2.imshow(\"preview\", frame)\n",
    "        if len(frame_features) > 0:\n",
    "            total_area = sum(frame_features.get(f'width_{i+1}', 0) * frame_features.get(f'height_{i+1}', 0) for i in range(max_contours))\n",
    "            update_plot(total_area)  # Update plot with the sum of areas of detected regions\n",
    "\n",
    "        k = cv2.waitKey(30) & 0xFF\n",
    "        if k == 27:  # Esc key to stop\n",
    "            break\n",
    "\n",
    "    cap.release()\n",
    "    cv2.destroyAllWindows()\n",
    "\n",
    "    # Ensure all possible contour columns are present in every frame\n",
    "    for frame in all_features:\n",
    "        for contour_id in range(1, max_contours + 1):\n",
    "            for feature in ['centerX', 'centerY', 'width', 'height', 'angle', 'area']:\n",
    "                frame.setdefault(f'{feature}_{contour_id}', None)\n",
    "\n",
    "    return all_features\n",
    "\n",
    "# Flatten the features while ensuring consistent column names\n",
    "def flatten_features(features, max_contours):\n",
    "    flattened_features = []\n",
    "    for frame_features in features:\n",
    "        flattened = {}\n",
    "        for contour_id in range(1, max_contours + 1):\n",
    "            for feature in ['centerX', 'centerY', 'width', 'height', 'angle', 'area']:\n",
    "                flattened[f'{feature}_{contour_id}'] = frame_features.get(f'{feature}_{contour_id}', None)\n",
    "        flattened_features.append(flattened)\n",
    "    return flattened_features\n",
    "\n",
    "\n"
   ]
  },
  {
   "cell_type": "code",
   "execution_count": 7,
   "id": "5c932c6c",
   "metadata": {},
   "outputs": [
    {
     "name": "stderr",
     "output_type": "stream",
     "text": [
      "C:\\Users\\thaim\\AppData\\Local\\Temp\\ipykernel_22492\\3885246345.py:105: DeprecationWarning: `np.int0` is a deprecated alias for `np.intp`.  (Deprecated NumPy 1.24)\n",
      "  box = np.int0(box)  # Ensure the box is correctly formatted as integer numpy array\n"
     ]
    },
    {
     "ename": "PermissionError",
     "evalue": "[Errno 13] Permission denied: 'fire_detection_features_corrected.csv'",
     "output_type": "error",
     "traceback": [
      "\u001b[1;31m---------------------------------------------------------------------------\u001b[0m",
      "\u001b[1;31mPermissionError\u001b[0m                           Traceback (most recent call last)",
      "Cell \u001b[1;32mIn[7], line 16\u001b[0m\n\u001b[0;32m     13\u001b[0m df \u001b[38;5;241m=\u001b[39m pd\u001b[38;5;241m.\u001b[39mDataFrame(flattened_features)\n\u001b[0;32m     15\u001b[0m \u001b[38;5;66;03m# Save the DataFrame to a CSV file for later use\u001b[39;00m\n\u001b[1;32m---> 16\u001b[0m \u001b[43mdf\u001b[49m\u001b[38;5;241;43m.\u001b[39;49m\u001b[43mto_csv\u001b[49m\u001b[43m(\u001b[49m\u001b[38;5;124;43m\"\u001b[39;49m\u001b[38;5;124;43mfire_detection_features_corrected.csv\u001b[39;49m\u001b[38;5;124;43m\"\u001b[39;49m\u001b[43m,\u001b[49m\u001b[43m \u001b[49m\u001b[43mindex\u001b[49m\u001b[38;5;241;43m=\u001b[39;49m\u001b[38;5;28;43;01mFalse\u001b[39;49;00m\u001b[43m)\u001b[49m\n",
      "File \u001b[1;32m~\\AppData\\Local\\Packages\\PythonSoftwareFoundation.Python.3.12_qbz5n2kfra8p0\\LocalCache\\local-packages\\Python312\\site-packages\\pandas\\core\\generic.py:3902\u001b[0m, in \u001b[0;36mNDFrame.to_csv\u001b[1;34m(self, path_or_buf, sep, na_rep, float_format, columns, header, index, index_label, mode, encoding, compression, quoting, quotechar, lineterminator, chunksize, date_format, doublequote, escapechar, decimal, errors, storage_options)\u001b[0m\n\u001b[0;32m   3891\u001b[0m df \u001b[38;5;241m=\u001b[39m \u001b[38;5;28mself\u001b[39m \u001b[38;5;28;01mif\u001b[39;00m \u001b[38;5;28misinstance\u001b[39m(\u001b[38;5;28mself\u001b[39m, ABCDataFrame) \u001b[38;5;28;01melse\u001b[39;00m \u001b[38;5;28mself\u001b[39m\u001b[38;5;241m.\u001b[39mto_frame()\n\u001b[0;32m   3893\u001b[0m formatter \u001b[38;5;241m=\u001b[39m DataFrameFormatter(\n\u001b[0;32m   3894\u001b[0m     frame\u001b[38;5;241m=\u001b[39mdf,\n\u001b[0;32m   3895\u001b[0m     header\u001b[38;5;241m=\u001b[39mheader,\n\u001b[1;32m   (...)\u001b[0m\n\u001b[0;32m   3899\u001b[0m     decimal\u001b[38;5;241m=\u001b[39mdecimal,\n\u001b[0;32m   3900\u001b[0m )\n\u001b[1;32m-> 3902\u001b[0m \u001b[38;5;28;01mreturn\u001b[39;00m \u001b[43mDataFrameRenderer\u001b[49m\u001b[43m(\u001b[49m\u001b[43mformatter\u001b[49m\u001b[43m)\u001b[49m\u001b[38;5;241;43m.\u001b[39;49m\u001b[43mto_csv\u001b[49m\u001b[43m(\u001b[49m\n\u001b[0;32m   3903\u001b[0m \u001b[43m    \u001b[49m\u001b[43mpath_or_buf\u001b[49m\u001b[43m,\u001b[49m\n\u001b[0;32m   3904\u001b[0m \u001b[43m    \u001b[49m\u001b[43mlineterminator\u001b[49m\u001b[38;5;241;43m=\u001b[39;49m\u001b[43mlineterminator\u001b[49m\u001b[43m,\u001b[49m\n\u001b[0;32m   3905\u001b[0m \u001b[43m    \u001b[49m\u001b[43msep\u001b[49m\u001b[38;5;241;43m=\u001b[39;49m\u001b[43msep\u001b[49m\u001b[43m,\u001b[49m\n\u001b[0;32m   3906\u001b[0m \u001b[43m    \u001b[49m\u001b[43mencoding\u001b[49m\u001b[38;5;241;43m=\u001b[39;49m\u001b[43mencoding\u001b[49m\u001b[43m,\u001b[49m\n\u001b[0;32m   3907\u001b[0m \u001b[43m    \u001b[49m\u001b[43merrors\u001b[49m\u001b[38;5;241;43m=\u001b[39;49m\u001b[43merrors\u001b[49m\u001b[43m,\u001b[49m\n\u001b[0;32m   3908\u001b[0m \u001b[43m    \u001b[49m\u001b[43mcompression\u001b[49m\u001b[38;5;241;43m=\u001b[39;49m\u001b[43mcompression\u001b[49m\u001b[43m,\u001b[49m\n\u001b[0;32m   3909\u001b[0m \u001b[43m    \u001b[49m\u001b[43mquoting\u001b[49m\u001b[38;5;241;43m=\u001b[39;49m\u001b[43mquoting\u001b[49m\u001b[43m,\u001b[49m\n\u001b[0;32m   3910\u001b[0m \u001b[43m    \u001b[49m\u001b[43mcolumns\u001b[49m\u001b[38;5;241;43m=\u001b[39;49m\u001b[43mcolumns\u001b[49m\u001b[43m,\u001b[49m\n\u001b[0;32m   3911\u001b[0m \u001b[43m    \u001b[49m\u001b[43mindex_label\u001b[49m\u001b[38;5;241;43m=\u001b[39;49m\u001b[43mindex_label\u001b[49m\u001b[43m,\u001b[49m\n\u001b[0;32m   3912\u001b[0m \u001b[43m    \u001b[49m\u001b[43mmode\u001b[49m\u001b[38;5;241;43m=\u001b[39;49m\u001b[43mmode\u001b[49m\u001b[43m,\u001b[49m\n\u001b[0;32m   3913\u001b[0m \u001b[43m    \u001b[49m\u001b[43mchunksize\u001b[49m\u001b[38;5;241;43m=\u001b[39;49m\u001b[43mchunksize\u001b[49m\u001b[43m,\u001b[49m\n\u001b[0;32m   3914\u001b[0m \u001b[43m    \u001b[49m\u001b[43mquotechar\u001b[49m\u001b[38;5;241;43m=\u001b[39;49m\u001b[43mquotechar\u001b[49m\u001b[43m,\u001b[49m\n\u001b[0;32m   3915\u001b[0m \u001b[43m    \u001b[49m\u001b[43mdate_format\u001b[49m\u001b[38;5;241;43m=\u001b[39;49m\u001b[43mdate_format\u001b[49m\u001b[43m,\u001b[49m\n\u001b[0;32m   3916\u001b[0m \u001b[43m    \u001b[49m\u001b[43mdoublequote\u001b[49m\u001b[38;5;241;43m=\u001b[39;49m\u001b[43mdoublequote\u001b[49m\u001b[43m,\u001b[49m\n\u001b[0;32m   3917\u001b[0m \u001b[43m    \u001b[49m\u001b[43mescapechar\u001b[49m\u001b[38;5;241;43m=\u001b[39;49m\u001b[43mescapechar\u001b[49m\u001b[43m,\u001b[49m\n\u001b[0;32m   3918\u001b[0m \u001b[43m    \u001b[49m\u001b[43mstorage_options\u001b[49m\u001b[38;5;241;43m=\u001b[39;49m\u001b[43mstorage_options\u001b[49m\u001b[43m,\u001b[49m\n\u001b[0;32m   3919\u001b[0m \u001b[43m\u001b[49m\u001b[43m)\u001b[49m\n",
      "File \u001b[1;32m~\\AppData\\Local\\Packages\\PythonSoftwareFoundation.Python.3.12_qbz5n2kfra8p0\\LocalCache\\local-packages\\Python312\\site-packages\\pandas\\io\\formats\\format.py:1152\u001b[0m, in \u001b[0;36mDataFrameRenderer.to_csv\u001b[1;34m(self, path_or_buf, encoding, sep, columns, index_label, mode, compression, quoting, quotechar, lineterminator, chunksize, date_format, doublequote, escapechar, errors, storage_options)\u001b[0m\n\u001b[0;32m   1131\u001b[0m     created_buffer \u001b[38;5;241m=\u001b[39m \u001b[38;5;28;01mFalse\u001b[39;00m\n\u001b[0;32m   1133\u001b[0m csv_formatter \u001b[38;5;241m=\u001b[39m CSVFormatter(\n\u001b[0;32m   1134\u001b[0m     path_or_buf\u001b[38;5;241m=\u001b[39mpath_or_buf,\n\u001b[0;32m   1135\u001b[0m     lineterminator\u001b[38;5;241m=\u001b[39mlineterminator,\n\u001b[1;32m   (...)\u001b[0m\n\u001b[0;32m   1150\u001b[0m     formatter\u001b[38;5;241m=\u001b[39m\u001b[38;5;28mself\u001b[39m\u001b[38;5;241m.\u001b[39mfmt,\n\u001b[0;32m   1151\u001b[0m )\n\u001b[1;32m-> 1152\u001b[0m \u001b[43mcsv_formatter\u001b[49m\u001b[38;5;241;43m.\u001b[39;49m\u001b[43msave\u001b[49m\u001b[43m(\u001b[49m\u001b[43m)\u001b[49m\n\u001b[0;32m   1154\u001b[0m \u001b[38;5;28;01mif\u001b[39;00m created_buffer:\n\u001b[0;32m   1155\u001b[0m     \u001b[38;5;28;01massert\u001b[39;00m \u001b[38;5;28misinstance\u001b[39m(path_or_buf, StringIO)\n",
      "File \u001b[1;32m~\\AppData\\Local\\Packages\\PythonSoftwareFoundation.Python.3.12_qbz5n2kfra8p0\\LocalCache\\local-packages\\Python312\\site-packages\\pandas\\io\\formats\\csvs.py:247\u001b[0m, in \u001b[0;36mCSVFormatter.save\u001b[1;34m(self)\u001b[0m\n\u001b[0;32m    243\u001b[0m \u001b[38;5;250m\u001b[39m\u001b[38;5;124;03m\"\"\"\u001b[39;00m\n\u001b[0;32m    244\u001b[0m \u001b[38;5;124;03mCreate the writer & save.\u001b[39;00m\n\u001b[0;32m    245\u001b[0m \u001b[38;5;124;03m\"\"\"\u001b[39;00m\n\u001b[0;32m    246\u001b[0m \u001b[38;5;66;03m# apply compression and byte/text conversion\u001b[39;00m\n\u001b[1;32m--> 247\u001b[0m \u001b[38;5;28;01mwith\u001b[39;00m \u001b[43mget_handle\u001b[49m\u001b[43m(\u001b[49m\n\u001b[0;32m    248\u001b[0m \u001b[43m    \u001b[49m\u001b[38;5;28;43mself\u001b[39;49m\u001b[38;5;241;43m.\u001b[39;49m\u001b[43mfilepath_or_buffer\u001b[49m\u001b[43m,\u001b[49m\n\u001b[0;32m    249\u001b[0m \u001b[43m    \u001b[49m\u001b[38;5;28;43mself\u001b[39;49m\u001b[38;5;241;43m.\u001b[39;49m\u001b[43mmode\u001b[49m\u001b[43m,\u001b[49m\n\u001b[0;32m    250\u001b[0m \u001b[43m    \u001b[49m\u001b[43mencoding\u001b[49m\u001b[38;5;241;43m=\u001b[39;49m\u001b[38;5;28;43mself\u001b[39;49m\u001b[38;5;241;43m.\u001b[39;49m\u001b[43mencoding\u001b[49m\u001b[43m,\u001b[49m\n\u001b[0;32m    251\u001b[0m \u001b[43m    \u001b[49m\u001b[43merrors\u001b[49m\u001b[38;5;241;43m=\u001b[39;49m\u001b[38;5;28;43mself\u001b[39;49m\u001b[38;5;241;43m.\u001b[39;49m\u001b[43merrors\u001b[49m\u001b[43m,\u001b[49m\n\u001b[0;32m    252\u001b[0m \u001b[43m    \u001b[49m\u001b[43mcompression\u001b[49m\u001b[38;5;241;43m=\u001b[39;49m\u001b[38;5;28;43mself\u001b[39;49m\u001b[38;5;241;43m.\u001b[39;49m\u001b[43mcompression\u001b[49m\u001b[43m,\u001b[49m\n\u001b[0;32m    253\u001b[0m \u001b[43m    \u001b[49m\u001b[43mstorage_options\u001b[49m\u001b[38;5;241;43m=\u001b[39;49m\u001b[38;5;28;43mself\u001b[39;49m\u001b[38;5;241;43m.\u001b[39;49m\u001b[43mstorage_options\u001b[49m\u001b[43m,\u001b[49m\n\u001b[0;32m    254\u001b[0m \u001b[43m\u001b[49m\u001b[43m)\u001b[49m \u001b[38;5;28;01mas\u001b[39;00m handles:\n\u001b[0;32m    255\u001b[0m     \u001b[38;5;66;03m# Note: self.encoding is irrelevant here\u001b[39;00m\n\u001b[0;32m    256\u001b[0m     \u001b[38;5;28mself\u001b[39m\u001b[38;5;241m.\u001b[39mwriter \u001b[38;5;241m=\u001b[39m csvlib\u001b[38;5;241m.\u001b[39mwriter(\n\u001b[0;32m    257\u001b[0m         handles\u001b[38;5;241m.\u001b[39mhandle,\n\u001b[0;32m    258\u001b[0m         lineterminator\u001b[38;5;241m=\u001b[39m\u001b[38;5;28mself\u001b[39m\u001b[38;5;241m.\u001b[39mlineterminator,\n\u001b[1;32m   (...)\u001b[0m\n\u001b[0;32m    263\u001b[0m         quotechar\u001b[38;5;241m=\u001b[39m\u001b[38;5;28mself\u001b[39m\u001b[38;5;241m.\u001b[39mquotechar,\n\u001b[0;32m    264\u001b[0m     )\n\u001b[0;32m    266\u001b[0m     \u001b[38;5;28mself\u001b[39m\u001b[38;5;241m.\u001b[39m_save()\n",
      "File \u001b[1;32m~\\AppData\\Local\\Packages\\PythonSoftwareFoundation.Python.3.12_qbz5n2kfra8p0\\LocalCache\\local-packages\\Python312\\site-packages\\pandas\\io\\common.py:863\u001b[0m, in \u001b[0;36mget_handle\u001b[1;34m(path_or_buf, mode, encoding, compression, memory_map, is_text, errors, storage_options)\u001b[0m\n\u001b[0;32m    858\u001b[0m \u001b[38;5;28;01melif\u001b[39;00m \u001b[38;5;28misinstance\u001b[39m(handle, \u001b[38;5;28mstr\u001b[39m):\n\u001b[0;32m    859\u001b[0m     \u001b[38;5;66;03m# Check whether the filename is to be opened in binary mode.\u001b[39;00m\n\u001b[0;32m    860\u001b[0m     \u001b[38;5;66;03m# Binary mode does not support 'encoding' and 'newline'.\u001b[39;00m\n\u001b[0;32m    861\u001b[0m     \u001b[38;5;28;01mif\u001b[39;00m ioargs\u001b[38;5;241m.\u001b[39mencoding \u001b[38;5;129;01mand\u001b[39;00m \u001b[38;5;124m\"\u001b[39m\u001b[38;5;124mb\u001b[39m\u001b[38;5;124m\"\u001b[39m \u001b[38;5;129;01mnot\u001b[39;00m \u001b[38;5;129;01min\u001b[39;00m ioargs\u001b[38;5;241m.\u001b[39mmode:\n\u001b[0;32m    862\u001b[0m         \u001b[38;5;66;03m# Encoding\u001b[39;00m\n\u001b[1;32m--> 863\u001b[0m         handle \u001b[38;5;241m=\u001b[39m \u001b[38;5;28;43mopen\u001b[39;49m\u001b[43m(\u001b[49m\n\u001b[0;32m    864\u001b[0m \u001b[43m            \u001b[49m\u001b[43mhandle\u001b[49m\u001b[43m,\u001b[49m\n\u001b[0;32m    865\u001b[0m \u001b[43m            \u001b[49m\u001b[43mioargs\u001b[49m\u001b[38;5;241;43m.\u001b[39;49m\u001b[43mmode\u001b[49m\u001b[43m,\u001b[49m\n\u001b[0;32m    866\u001b[0m \u001b[43m            \u001b[49m\u001b[43mencoding\u001b[49m\u001b[38;5;241;43m=\u001b[39;49m\u001b[43mioargs\u001b[49m\u001b[38;5;241;43m.\u001b[39;49m\u001b[43mencoding\u001b[49m\u001b[43m,\u001b[49m\n\u001b[0;32m    867\u001b[0m \u001b[43m            \u001b[49m\u001b[43merrors\u001b[49m\u001b[38;5;241;43m=\u001b[39;49m\u001b[43merrors\u001b[49m\u001b[43m,\u001b[49m\n\u001b[0;32m    868\u001b[0m \u001b[43m            \u001b[49m\u001b[43mnewline\u001b[49m\u001b[38;5;241;43m=\u001b[39;49m\u001b[38;5;124;43m\"\u001b[39;49m\u001b[38;5;124;43m\"\u001b[39;49m\u001b[43m,\u001b[49m\n\u001b[0;32m    869\u001b[0m \u001b[43m        \u001b[49m\u001b[43m)\u001b[49m\n\u001b[0;32m    870\u001b[0m     \u001b[38;5;28;01melse\u001b[39;00m:\n\u001b[0;32m    871\u001b[0m         \u001b[38;5;66;03m# Binary mode\u001b[39;00m\n\u001b[0;32m    872\u001b[0m         handle \u001b[38;5;241m=\u001b[39m \u001b[38;5;28mopen\u001b[39m(handle, ioargs\u001b[38;5;241m.\u001b[39mmode)\n",
      "\u001b[1;31mPermissionError\u001b[0m: [Errno 13] Permission denied: 'fire_detection_features_corrected.csv'"
     ]
    }
   ],
   "source": [
    "\n",
    "# Process the video and get the feature vectors\n",
    "movie_path = r\"C:\\Users\\thaim\\Downloads\\11029-20240604T105659Z-002\\11029\\train_videos\\video_20210406_082319_532 - Trim.mp4\"\n",
    "features = process_video(movie_path)\n",
    "\n",
    "# Find the maximum number of contours in any frame\n",
    "max_contours = max(len(frame_features) // 6 for frame_features in features)\n",
    "\n",
    "# Flatten the features ensuring consistent columns\n",
    "flattened_features = flatten_features(features, max_contours)\n",
    "\n",
    "# Convert the flattened features to a DataFrame\n",
    "df = pd.DataFrame(flattened_features)\n",
    "\n",
    "# Save the DataFrame to a CSV file for later use\n",
    "df.to_csv(\"fire_detection_features_corrected.csv\", index=False)\n"
   ]
  },
  {
   "cell_type": "code",
   "execution_count": null,
   "id": "a2792770",
   "metadata": {},
   "outputs": [],
   "source": [
    "\n",
    "# Neural Network Model\n",
    "def AI_model_Temporal_1():\n",
    "    model = Sequential([\n",
    "        Dense(20, activation=\"relu\", input_shape=(FL_SIZE,)),\n",
    "        Dropout(0.1),\n",
    "        Dense(10, activation=\"relu\"),\n",
    "        Dense(5, activation=\"relu\"),\n",
    "        Dense(1, activation=\"sigmoid\")\n",
    "    ])\n",
    "\n",
    "    sgd = keras.optimizers.SGD(learning_rate=0.003, momentum=0.9)\n",
    "    model.compile(loss=\"binary_crossentropy\", optimizer=sgd, metrics=[\"accuracy\"])\n",
    "    return model\n",
    "\n",
    "model = AI_model_Temporal_1()\n",
    "model.summary()\n",
    "\n",
    "reduce_lr_acc = ReduceLROnPlateau(monitor='val_acc', factor=0.1, patience=7, verbose=1, min_delta=1e-4, mode='max')\n",
    "earlyStopping = EarlyStopping(monitor='val_acc', patience=10, mode='max')\n",
    "callbacks = [earlyStopping, reduce_lr_acc]\n",
    "\n",
    "# Assuming X_train2 and Y_train are defined and preprocessed\n",
    "# history = model.fit(X_train2, Y_train, batch_size=10, epochs=25, validation_split=0.2, shuffle=True)\n"
   ]
  },
  {
   "cell_type": "code",
   "execution_count": 6,
   "id": "753e05a8",
   "metadata": {},
   "outputs": [],
   "source": [
    "cap.release()\n",
    "cv.destroyAllWindows()  "
   ]
  },
  {
   "cell_type": "markdown",
   "id": "1d6b7cd3",
   "metadata": {},
   "source": [
    "# Load\n"
   ]
  },
  {
   "cell_type": "code",
   "execution_count": null,
   "id": "ddab79e1",
   "metadata": {},
   "outputs": [],
   "source": [
    "flame1=(np.load('flame_1.npy'))\n",
    "nflame1=(np.load('not_flame_1.npy'))\n",
    "\n",
    "flame2=(np.load('flame_2.npy'))\n",
    "nflame2=(np.load('not_flame_2.npy'))\n",
    "\n",
    "flame3=(np.load('flame_3.npy'))\n",
    "\n",
    "flame_set=np.concatenate((flame1,flame2))\n",
    "flame_set=np.concatenate((flame_set,flame3))\n",
    "\n",
    "\n",
    "Not_flame_set=np.concatenate((nflame1,nflame2))\n",
    "Not_flame_set=np.concatenate((Not_flame_set,not_flame_array))\n",
    "\n",
    "\n"
   ]
  },
  {
   "cell_type": "code",
   "execution_count": null,
   "id": "9a02da91",
   "metadata": {},
   "outputs": [],
   "source": [
    "flame_set.shape\n",
    "flame_label=np.ones(flame_set.shape[0])\n",
    "Not_flame_label=np.zeros(Not_flame_set.shape[0])"
   ]
  },
  {
   "cell_type": "code",
   "execution_count": null,
   "id": "c4467e67",
   "metadata": {},
   "outputs": [],
   "source": [
    "flame_label"
   ]
  },
  {
   "cell_type": "code",
   "execution_count": null,
   "id": "68e19056",
   "metadata": {},
   "outputs": [],
   "source": [
    "Not_flame_set.shape"
   ]
  },
  {
   "cell_type": "code",
   "execution_count": null,
   "id": "1e2ebe81",
   "metadata": {},
   "outputs": [],
   "source": [
    "X_train=np.concatenate((flame_set,Not_flame_set))\n",
    "Y_train=np.concatenate((flame_label,Not_flame_label))"
   ]
  },
  {
   "cell_type": "code",
   "execution_count": null,
   "id": "7f3665b4",
   "metadata": {},
   "outputs": [],
   "source": [
    "X_train2=np.zeros(X_train.shape)"
   ]
  },
  {
   "cell_type": "code",
   "execution_count": null,
   "id": "67d960f8",
   "metadata": {},
   "outputs": [],
   "source": [
    "X_train[0][0]"
   ]
  },
  {
   "cell_type": "code",
   "execution_count": null,
   "id": "9ab1d20c",
   "metadata": {},
   "outputs": [],
   "source": [
    "X_train[0,:]"
   ]
  },
  {
   "cell_type": "code",
   "execution_count": null,
   "id": "1cdb28bd",
   "metadata": {},
   "outputs": [],
   "source": [
    "\n",
    "for i in range (X_train.shape[0]):\n",
    "    X_train2[i,:]=X_train[i,:]/np.max(X_train[i,:])"
   ]
  },
  {
   "cell_type": "markdown",
   "id": "f93da7db",
   "metadata": {},
   "source": [
    "# AI"
   ]
  },
  {
   "cell_type": "code",
   "execution_count": null,
   "id": "17da14a1",
   "metadata": {},
   "outputs": [],
   "source": [
    "import keras\n",
    "from keras.models import Sequential\n",
    "from keras.layers import Dense, Flatten, Dropout\n",
    "from keras.layers.convolutional import Conv2D, MaxPooling2D\n",
    "#from keras.utils import to_categorical\n",
    "from tensorflow.keras.utils import to_categorical"
   ]
  },
  {
   "cell_type": "code",
   "execution_count": null,
   "id": "22288c30",
   "metadata": {},
   "outputs": [],
   "source": [
    "from keras.callbacks import ReduceLROnPlateau\n",
    "from keras.callbacks import EarlyStopping\n",
    "from keras.callbacks import ModelCheckpoint"
   ]
  },
  {
   "cell_type": "code",
   "execution_count": null,
   "id": "4927d036",
   "metadata": {},
   "outputs": [],
   "source": [
    "#  רשת א\n",
    "\n",
    "def AI_model_Temporal_1():   # U\n",
    "    #Create Model\n",
    "    model = keras.models.Sequential([keras.Input(shape=(FL_SIZE,)),\n",
    "                                 keras.layers.Dense(20, activation=\"relu\"),\n",
    "                                 keras.layers.Dropout(.1),\n",
    "                                 keras.layers.Dense(10, activation=\"relu\"),\n",
    "                                 keras.layers.Dense(5, activation=\"relu\"),\n",
    "                                 keras.layers.Dense(1, activation=\"sigmoid\")\n",
    "    ])\n",
    "    \n",
    "\n",
    "    sgd=keras.optimizers.SGD(learning_rate=0.003, momentum=0.9, nesterov=False, name=\"SGD\")\n",
    "    adam=keras.optimizers.Adam(learning_rate=0.001,beta_1=0.9,beta_2=0.99,epsilon=1e-07,amsgrad=False,name=\"Adam\",)\n",
    "    Binary_crossentropy=keras.losses.BinaryCrossentropy( from_logits=False, label_smoothing=0.5,axis=-1,reduction=\"auto\",name=\"Binary_crossentropy\",)\n",
    "    \n",
    "    model.compile(loss=\"binary_crossentropy\", optimizer=sgd,metrics=[\"accuracy\"])\n",
    "    return model"
   ]
  },
  {
   "cell_type": "code",
   "execution_count": null,
   "id": "ffd04db9",
   "metadata": {},
   "outputs": [],
   "source": [
    "model=AI_model_Temporal_1()\n",
    "model.summary()"
   ]
  },
  {
   "cell_type": "code",
   "execution_count": null,
   "id": "4bb31b0b",
   "metadata": {},
   "outputs": [],
   "source": [
    "reduce_lr_acc = ReduceLROnPlateau(monitor='val_acc', factor=0.1, patience=7, verbose=1, min_delta=1e-4, mode='max')\n",
    "earlyStopping = EarlyStopping(monitor='val_acc', patience=10, verbose=0, mode='max')\n",
    "callbacks=[earlyStopping,reduce_lr_acc]"
   ]
  },
  {
   "cell_type": "code",
   "execution_count": null,
   "id": "e67bb16c",
   "metadata": {},
   "outputs": [],
   "source": [
    "history=model.fit(X_train2, Y_train,batch_size=10, epochs=25,validation_split=0.2,shuffle='True')"
   ]
  },
  {
   "cell_type": "code",
   "execution_count": null,
   "id": "506aad6f",
   "metadata": {},
   "outputs": [],
   "source": [
    "\n",
    "import pandas as pd\n",
    "pd.DataFrame(history.history).plot(figsize=(8, 5)) \n",
    "plt.grid(True)\n",
    "plt.gca().set_ylim(0, 1) #  set  the  vertical  range  to  [0-1]\n",
    "plt.show()"
   ]
  },
  {
   "cell_type": "code",
   "execution_count": null,
   "id": "6ec5e850",
   "metadata": {},
   "outputs": [],
   "source": [
    "#model.save_weights('Temporal_Model_A_weights_V5.h5')\n"
   ]
  },
  {
   "cell_type": "markdown",
   "id": "52219835",
   "metadata": {},
   "source": [
    "# Test"
   ]
  },
  {
   "cell_type": "code",
   "execution_count": null,
   "id": "c0ebe0a6",
   "metadata": {},
   "outputs": [],
   "source": [
    "movie_path=\"C:/Users/user/PycharmProjects/fire_detector-3-1-1/fire_detector/videos/train/video_20210701_143239_1979/video_20210701_143239_1979.mp4\""
   ]
  },
  {
   "cell_type": "code",
   "execution_count": null,
   "id": "6c7ec98f",
   "metadata": {},
   "outputs": [],
   "source": [
    "cap.release()\n",
    "cv.destroyAllWindows()  "
   ]
  },
  {
   "cell_type": "code",
   "execution_count": null,
   "id": "e410b9d6",
   "metadata": {},
   "outputs": [],
   "source": [
    "\n",
    "cap=cv2.VideoCapture(movie_path)\n",
    "\n",
    "\n",
    "\n",
    "frameCount = int(cap.get(cv2.CAP_PROP_FRAME_COUNT))\n",
    "frameWidth = int(cap.get(cv2.CAP_PROP_FRAME_WIDTH))\n",
    "frameHeight = int(cap.get(cv2.CAP_PROP_FRAME_HEIGHT))\n",
    "\n",
    "img_counter=0\n",
    "FL_SIZE=30\n",
    "max_leng=0\n",
    "max_wid=0\n",
    "CENTER=[]\n",
    "LEFT=[]\n",
    "#CENTER2=[]\n",
    "av_cen=[]\n",
    "av_factor=10\n",
    "WID=[]\n",
    "centroid_x=[]\n",
    "m00=[]\n",
    "m10=[]\n",
    "not_flame=[]\n",
    "flame=[]\n",
    "fgbg = cv2.createBackgroundSubtractorMOG2()\n",
    "not_flame_array=[]\n",
    "flame_array=[]\n",
    "sample_size=30\n",
    "textAI='None'\n",
    "textAI1='None'\n",
    "col=(255,0,0)\n",
    "col1=(255,0,0)\n",
    "while(1):\n",
    "    ret, frame = cap.read()\n",
    "    #frame = fgbg.apply(frame) \n",
    "    img=frame[:,:,1]\n",
    "    img[0:40, :] = 0\n",
    "    img[frameHeight - 21:frameHeight - 1, :] = 0\n",
    "    img[:, 0:40] = 0\n",
    "    img[:, frameWidth - 21:frameWidth - 1] = 0\n",
    "    thresh, B2 = cv2.threshold(img, 60, 255, cv2.THRESH_BINARY)\n",
    "    B2 = cv.morphologyEx(B2, cv.MORPH_CLOSE, np.ones((200, 200)))\n",
    "    \n",
    "\n",
    "    \n",
    "    conturs, hierachy = cv2.findContours(B2, cv2.RETR_EXTERNAL, cv2.CHAIN_APPROX_SIMPLE)\n",
    "    #cv.drawContours(frame, conturs, -1, (0,255,0), 3)\n",
    "    con_id=0\n",
    "\n",
    "    if conturs:\n",
    "        for c in conturs:\n",
    "        #c = max(conturs, key = cv2.contourArea)\n",
    "            con_id=con_id+1\n",
    "            \n",
    "            top_point = (np.min(c[:, :, 0]), np.min(c[:, :, 1]))\n",
    "            bottom_point = (np.max(c[:, :, 0]), np.max(c[:, :, 1]))\n",
    "            box_im=B2[np.min(c[:, :, 1]):np.max(c[:, :, 1]),np.min(c[:, :, 0]):np.max(c[:, :, 0])]\n",
    "            leng=np.max(c[:, :, 0])-np.min(c[:, :, 0])\n",
    "            wid=np.max(c[:, :, 1])-np.min(c[:, :, 1])\n",
    "            BSIZE=leng*wid\n",
    "        \n",
    "#             B4=img.copy() \n",
    "#             B4=cv.drawContours(B4, c, -1, (255,0,0), 1)\n",
    "            if (BSIZE>50):\n",
    "                M = cv2.moments(B2)\n",
    "                cX = int(M[\"m10\"]/ M[\"m00\"])\n",
    "                cY = int(M[\"m01\"] / M[\"m00\"])\n",
    "        \n",
    "                CX=cX#+np.min(c[:, :, 0])\n",
    "                m00.append(int(M[\"m00\"]))\n",
    "                m10.append(int(M[\"m10\"]))\n",
    "            \n",
    "            \n",
    "                B3=img.copy() \n",
    "                #frame = cv2.rectangle(frame, top_point,bottom_point, (255,0,0), 2)\n",
    "                img=frame[:,:]\n",
    "                center=np.min(c[:, :, 0])+0.5*(np.max(c[:, :, 0])-np.min(c[:, :, 0]))\n",
    "                if center<200 :\n",
    "                    not_flame.append(BSIZE)\n",
    "                    if len(not_flame)>FL_SIZE:\n",
    "                        input1=not_flame[-1*FL_SIZE:]\n",
    "                        input1=input1/np.max(input1)\n",
    "                        input2=np.expand_dims(input1, axis=0)\n",
    "                        AI_output=(model.predict(input2))\n",
    "                        AI_output=np.round(AI_output)[0][0]\n",
    "                        if AI_output==1:\n",
    "                            textAI='Fire'\n",
    "                            col=(0,0,255)\n",
    "                        if AI_output==0:\n",
    "                            textAI='Not Fire'\n",
    "                            col=(0,255,0)\n",
    "                    image = cv2.putText(frame, textAI, bottom_point,  cv2.FONT_HERSHEY_SIMPLEX,1, col, 2, cv2.LINE_AA)\n",
    "                        \n",
    "                    \n",
    "                if center >200:\n",
    "    \n",
    "                    flame.append(BSIZE)\n",
    "                    if len(flame)>FL_SIZE:\n",
    "                        input1=flame[-1*FL_SIZE:]\n",
    "                        input1=input1/np.max(input1)\n",
    "                        input2=np.expand_dims(input1, axis=0)\n",
    "                        AI_output=(model.predict(input2))\n",
    "                        AI_output=np.round(AI_output)[0][0]\n",
    "                        if AI_output==1:\n",
    "                            textAI1='Fire'\n",
    "                            col1=(0,0,255)\n",
    "                        if AI_output==0:\n",
    "                            textAI1='Not Fire'\n",
    "                            col1=(0,255,0)\n",
    "                        image = cv2.putText(frame, textAI1, bottom_point,  cv2.FONT_HERSHEY_SIMPLEX,1, col1, 2, cv2.LINE_AA)\n",
    "                        \n",
    "                \n",
    "            \n",
    "                text= str(BSIZE)+'center:'+str(center) #str(leng)+' X '+str(wid)\n",
    "                \n",
    "    \n",
    "    prv = cv2.resize(B2, (1280, 960))\n",
    "    cv2.imshow(\"preview\",frame)\n",
    "        \n",
    "    k = cv.waitKey(30) & 0xff55\n",
    "    if k == 27:\n",
    "        break\n",
    "    dbc=img_counter%4\n",
    "    img_counter=img_counter+1\n",
    "    #if img_counter==100:\n",
    "    #    break\n",
    "    "
   ]
  },
  {
   "cell_type": "code",
   "execution_count": null,
   "id": "8ef4b9a8",
   "metadata": {},
   "outputs": [],
   "source": [
    "cap.release()\n",
    "cv.destroyAllWindows()  "
   ]
  },
  {
   "cell_type": "code",
   "execution_count": null,
   "id": "8c56c4b9",
   "metadata": {},
   "outputs": [],
   "source": []
  }
 ],
 "metadata": {
  "kernelspec": {
   "display_name": "Python 3 (ipykernel)",
   "language": "python",
   "name": "python3"
  },
  "language_info": {
   "codemirror_mode": {
    "name": "ipython",
    "version": 3
   },
   "file_extension": ".py",
   "mimetype": "text/x-python",
   "name": "python",
   "nbconvert_exporter": "python",
   "pygments_lexer": "ipython3",
   "version": "3.12.3"
  }
 },
 "nbformat": 4,
 "nbformat_minor": 5
}
