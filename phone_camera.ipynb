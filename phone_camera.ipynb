{
 "cells": [
  {
   "cell_type": "code",
   "execution_count": 20,
   "id": "f0cf49d7-a157-4612-938e-36596a46fff0",
   "metadata": {},
   "outputs": [],
   "source": [
    "import cv2\n",
    "import numpy as np\n",
    "import mss\n",
    "\n",
    "circle_points = []\n",
    "\n",
    "# Mouse callback function\n",
    "def draw_circle(event, x, y, flags, param):\n",
    "    if event == cv2.EVENT_LBUTTONDOWN:\n",
    "        circle_points.append((x, y))\n",
    "\n",
    "# Set mouse callback on the display window\n",
    "cv2.namedWindow(\"Captured Galaxy Camera\")\n",
    "cv2.setMouseCallback(\"Captured Galaxy Camera\", draw_circle)\n",
    "\n",
    "# Set up monitor capture (you can adjust 'top', 'left', 'width', 'height')\n",
    "monitor_region = {'top': 100, 'left': 700, 'width': 450, 'height': 600}\n",
    "\n",
    "with mss.mss() as sct:\n",
    "    while True:\n",
    "\n",
    "        screenshot = sct.grab(monitor_region)\n",
    "        frame = np.array(screenshot)\n",
    "        frame = cv2.cvtColor(frame, cv2.COLOR_BGRA2BGR)\n",
    "        for point in circle_points:\n",
    "            cv2.circle(frame, point, radius=20, color=(0, 255, 0), thickness=2)\n",
    "        cv2.imshow(\"Captured Galaxy Camera\", frame)\n",
    "\n",
    "        if cv2.waitKey(1) == ord('q'):\n",
    "            break\n",
    "\n",
    "cv2.destroyAllWindows()"
   ]
  },
  {
   "cell_type": "code",
   "execution_count": 2,
   "id": "4f5f4de6-e892-40e5-ab6b-fc73d3c6a1f2",
   "metadata": {},
   "outputs": [
    {
     "name": "stdout",
     "output_type": "stream",
     "text": [
      "Collecting mss\n",
      "  Downloading mss-10.0.0-py3-none-any.whl.metadata (6.1 kB)\n",
      "Downloading mss-10.0.0-py3-none-any.whl (24 kB)\n",
      "Installing collected packages: mss\n",
      "Successfully installed mss-10.0.0\n",
      "Note: you may need to restart the kernel to use updated packages.\n"
     ]
    }
   ],
   "source": [
    "pip install mss"
   ]
  },
  {
   "cell_type": "code",
   "execution_count": 21,
   "id": "3148c799-3d6c-472f-8116-a42675a0b7bb",
   "metadata": {},
   "outputs": [],
   "source": []
  },
  {
   "cell_type": "code",
   "execution_count": 9,
   "id": "b6ffc876-bcfa-4fda-ba80-30c3512a4829",
   "metadata": {},
   "outputs": [],
   "source": [
    "cv2.destroyAllWindows()"
   ]
  },
  {
   "cell_type": "code",
   "execution_count": 18,
   "id": "1d2ad727-8b51-4afd-b395-4259ca41c67a",
   "metadata": {},
   "outputs": [
    {
     "name": "stdout",
     "output_type": "stream",
     "text": [
      "Failed to get frame from IP camera\n"
     ]
    }
   ],
   "source": [
    "import cv2\n",
    "\n",
    "circle_points = []\n",
    "click_count = 0\n",
    "\n",
    "# Define a list of 5 colors (BGR format)\n",
    "colors = [\n",
    "    (0, 255, 0),     # Green\n",
    "    (0, 0, 255),     # Red\n",
    "    (255, 0, 0),     # Blue\n",
    "    (0, 255, 255),   # Yellow\n",
    "    (255, 0, 255),   # Magenta\n",
    "]\n",
    "\n",
    "# Mouse callback function\n",
    "def draw_circle(event, x, y, flags, param):\n",
    "    global click_count\n",
    "    if event == cv2.EVENT_LBUTTONDOWN:\n",
    "        color = colors[click_count % len(colors)]\n",
    "        circle_points.append((x, y, color))\n",
    "        click_count += 1\n",
    "\n",
    "# Set mouse callback on the display window\n",
    "cv2.namedWindow(\"Captured Galaxy Camera\")\n",
    "cv2.setMouseCallback(\"Captured Galaxy Camera\", draw_circle)\n",
    "\n",
    "cap = cv2.VideoCapture(\"http://10.0.0.54:8080/video\")\n",
    "\n",
    "while True:\n",
    "    ret, frame = cap.read()\n",
    "    if not ret:\n",
    "        print(\"Failed to get frame from IP camera\")\n",
    "        break\n",
    "\n",
    "    # Draw all circles\n",
    "    for x, y, color in circle_points:\n",
    "        cv2.circle(frame, (x, y), radius=18, color=color, thickness=2)\n",
    "    crop=frame\n",
    "    cv2.imshow(\"Captured Galaxy Camera\", crop)\n",
    "\n",
    "    key = cv2.waitKey(1) & 0xFF\n",
    "    if key == ord('q'):  # Quit\n",
    "        break\n",
    "    elif key == ord('d'):  # Delete all circles\n",
    "        circle_points.clear()\n",
    "        click_count = 0\n",
    "\n",
    "cap.release()\n",
    "cv2.destroyAllWindows()"
   ]
  },
  {
   "cell_type": "code",
   "execution_count": null,
   "id": "7960b62e-69fc-43ef-84db-c18a860ba10e",
   "metadata": {},
   "outputs": [],
   "source": [
    "cap.release()\n",
    "cv2.destroyAllWindows()"
   ]
  },
  {
   "cell_type": "code",
   "execution_count": null,
   "id": "4e21bf61-d05a-4633-af5e-cade785a76c6",
   "metadata": {},
   "outputs": [],
   "source": []
  }
 ],
 "metadata": {
  "kernelspec": {
   "display_name": "Python 3 (ipykernel)",
   "language": "python",
   "name": "python3"
  },
  "language_info": {
   "codemirror_mode": {
    "name": "ipython",
    "version": 3
   },
   "file_extension": ".py",
   "mimetype": "text/x-python",
   "name": "python",
   "nbconvert_exporter": "python",
   "pygments_lexer": "ipython3",
   "version": "3.12.9"
  }
 },
 "nbformat": 4,
 "nbformat_minor": 5
}
