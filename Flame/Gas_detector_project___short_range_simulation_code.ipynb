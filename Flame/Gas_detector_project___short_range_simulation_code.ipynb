{
 "cells": [
  {
   "cell_type": "code",
   "execution_count": null,
   "id": "48450a91",
   "metadata": {
    "scrolled": true
   },
   "outputs": [],
   "source": [
    "import pandas as pd\n",
    "import matplotlib.pyplot as plt\n",
    "import matplotlib.dates as mdates\n",
    "from datetime import datetime"
   ]
  },
  {
   "cell_type": "code",
   "execution_count": null,
   "id": "05ffeb7a",
   "metadata": {
    "scrolled": false
   },
   "outputs": [],
   "source": [
    "\n",
    "# Load your CSV file\n",
    "file_path = 'C:/Users/thaim/OneDrive/Desktop/Projects/Gas_detector/Records/Short_Range_Prototype/06.12.23/Pulses/Pulses.csv' \n",
    "data = pd.read_csv(file_path)\n",
    "data\n"
   ]
  },
  {
   "cell_type": "code",
   "execution_count": null,
   "id": "36de17bf",
   "metadata": {},
   "outputs": [],
   "source": [
    "\n",
    "# Convert the 'Time' column to datetime format for plotting\n",
    "data['Time'] = pd.to_datetime(data['Time'],format= '%H:%M:%S')\n"
   ]
  },
  {
   "cell_type": "code",
   "execution_count": null,
   "id": "782fd972",
   "metadata": {},
   "outputs": [],
   "source": [
    "# Function to create a multi-series graph\n",
    "\n",
    "def create_multi_series_graph(data, x_column, y_columns, graph_title):\n",
    "    plt.figure(figsize=(12, 6))\n",
    "#    if time_frame is not None:\n",
    "#        data = data[(data[x_column] >= time_frame[0]) & (data[x_column] <= time_frame[1])]\n",
    "    for col in y_columns:\n",
    "#        smoothed_data = data[col].rolling(window=window_size).mean()\n",
    "        plt.plot(data[x_column], data[col], label=col)\n",
    "    plt.title(graph_title)\n",
    "    plt.xlabel('Time')\n",
    "    plt.ylabel('Voltage')\n",
    "    plt.xticks(rotation=45)\n",
    "    plt.legend()\n",
    "    plt.grid(True)\n",
    "    plt.tight_layout()\n",
    "    plt.show()"
   ]
  },
  {
   "cell_type": "code",
   "execution_count": null,
   "id": "7fe6e0e5",
   "metadata": {},
   "outputs": [],
   "source": [
    "# Columns for Graph 1 and Graph 2\n",
    "columns_graph_1 = ['Sensor S Signal', 'Sensor R1 Signal', 'Sensor R2 Signal', 'Sensor 4 Signal']\n",
    "#columns_graph_2 = ['Average Signal Sensor S1','Average Signal Sensor R1','Average Signal Sensor R2','Average Signal Sensor 4']\n",
    "#columns_graph_3 = ['NzAvrRatio A','NzAvgRatio B','NzAvrRatio C']    \n",
    "\n",
    "\n",
    "N = 1000  # interval in milliseconds\n",
    "aggregated_data = data.groupby(data.index // N).mean()\n",
    "# Create and display Graph 1 and Graph 2\n",
    "create_multi_series_graph(aggregated_data, 'Time', columns_graph_1, 'Graph 1: Multiple Sensor Signals over Time')\n",
    "#create_multi_series_graph(data, 'Time', columns_graph_2, 'Graph 2: Average Signal Sensor over time')\n",
    "#create_multi_series_graph(data, 'Time', columns_graph_3, 'Graph 3:NzAvrRatio over Time')"
   ]
  },
  {
   "cell_type": "code",
   "execution_count": null,
   "id": "417dee59",
   "metadata": {
    "scrolled": false
   },
   "outputs": [],
   "source": []
  },
  {
   "cell_type": "code",
   "execution_count": null,
   "id": "fa8a91ad",
   "metadata": {},
   "outputs": [],
   "source": [
    "\n",
    "# Load your CSV file\n",
    "file_path = 'C:/Users/thaim/OneDrive/Desktop/Projects/Gas_detector/Records/Short_Range_Prototype/29.11.23/Gas_detector_test_record.csv' \n",
    "data = pd.read_csv(file_path)"
   ]
  },
  {
   "cell_type": "code",
   "execution_count": null,
   "id": "0c662ea7",
   "metadata": {},
   "outputs": [],
   "source": [
    "\n",
    "# Convert the 'Time' column to datetime format for plotting\n",
    "data['Time'] = pd.to_datetime(data['Time'], format='%d/%m/%Y %H:%M:%S')"
   ]
  },
  {
   "cell_type": "code",
   "execution_count": null,
   "id": "5114d67c",
   "metadata": {},
   "outputs": [],
   "source": [
    "\n",
    "# Function to create a multi-series graph\n",
    "def create_multi_series_graph(data, x_column, y_columns, graph_title):\n",
    "    plt.figure(figsize=(12, 6))\n",
    "    for col in y_columns:\n",
    "        plt.plot(data[x_column], data[col], label=col)\n",
    "    plt.title(graph_title)\n",
    "    plt.xlabel('Time')\n",
    "    plt.ylabel('Voltage')\n",
    "    plt.xticks(rotation=45)\n",
    "    plt.legend()\n",
    "    plt.gca().xaxis.set_major_formatter(mdates.DateFormatter('%d/%m/%Y %H:%M:%S'))\n",
    "    plt.gca().xaxis.set_major_locator(mdates.HourLocator())\n",
    "    plt.grid(True)\n",
    "    plt.tight_layout()\n",
    "    plt.show()\n"
   ]
  },
  {
   "cell_type": "code",
   "execution_count": null,
   "id": "aff80e89",
   "metadata": {},
   "outputs": [],
   "source": [
    "columns_graph_1 = ['Sensor S Signal', 'Sensor R1 Signal', 'Sensor R2 Signal', 'Sensor 4 Signal']\n",
    "columns_graph_2 = ['Average Signal Sensor S1','Average Signal Sensor R1','Average Signal Sensor R2','Average Signal Sensor 4']"
   ]
  },
  {
   "cell_type": "code",
   "execution_count": null,
   "id": "79e2de5d",
   "metadata": {},
   "outputs": [],
   "source": [
    "%matplotlib notebook\n",
    "# Create and display Graph 1 and Graph 2\n",
    "create_multi_series_graph(data, 'Time', columns_graph_1, 'Graph 1: Multiple Sensor Signals over Time')\n",
    "create_multi_series_graph(data, 'Time', columns_graph_2, 'Graph 2: Multiple Noise Levels over Time')\n",
    "#create_multi_series_graph(data, 'Time', columns_graph_3, 'Graph 3: Multiple Sensor Signals over Time')"
   ]
  },
  {
   "cell_type": "code",
   "execution_count": null,
   "id": "405a769c",
   "metadata": {},
   "outputs": [],
   "source": []
  },
  {
   "cell_type": "code",
   "execution_count": null,
   "id": "3f288e05",
   "metadata": {},
   "outputs": [],
   "source": []
  },
  {
   "cell_type": "code",
   "execution_count": null,
   "id": "357e1526",
   "metadata": {},
   "outputs": [],
   "source": []
  }
 ],
 "metadata": {
  "kernelspec": {
   "display_name": "Python 3 (ipykernel)",
   "language": "python",
   "name": "python3"
  },
  "language_info": {
   "codemirror_mode": {
    "name": "ipython",
    "version": 3
   },
   "file_extension": ".py",
   "mimetype": "text/x-python",
   "name": "python",
   "nbconvert_exporter": "python",
   "pygments_lexer": "ipython3",
   "version": "3.11.5"
  }
 },
 "nbformat": 4,
 "nbformat_minor": 5
}
