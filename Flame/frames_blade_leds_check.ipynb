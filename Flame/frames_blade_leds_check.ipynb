{
 "cells": [
  {
   "cell_type": "code",
   "execution_count": 6,
   "metadata": {},
   "outputs": [
    {
     "name": "stdout",
     "output_type": "stream",
     "text": [
      "Starting from frame: 20\n",
      "End of video.\n"
     ]
    }
   ],
   "source": [
    "import cv2\n",
    "\n",
    "def show_video_from_frame(video_path, start_frame=0):\n",
    "    # Open the video file\n",
    "    video = cv2.VideoCapture(video_path)\n",
    "\n",
    "    # Check if the video opened successfully\n",
    "    if not video.isOpened():\n",
    "        print(\"Error: Could not open video.\")\n",
    "        return\n",
    "    \n",
    "    # Set the starting frame\n",
    "    video.set(cv2.CAP_PROP_POS_FRAMES, start_frame)\n",
    "    \n",
    "    print(f\"Starting from frame: {start_frame}\")\n",
    "\n",
    "    while True:\n",
    "        # Read the current frame\n",
    "        ret, frame = video.read()\n",
    "\n",
    "        # Break if no frame is read (end of video)\n",
    "        if not ret:\n",
    "            print(\"End of video.\")\n",
    "            break\n",
    "        \n",
    "        # Get the current frame number\n",
    "        current_frame = int(video.get(cv2.CAP_PROP_POS_FRAMES))\n",
    "        \n",
    "        # Display the frame number on the video\n",
    "        cv2.putText(frame, f\"Frame: {current_frame}\", (10, 30), cv2.FONT_HERSHEY_SIMPLEX, 1, (255, 255, 255), 2)\n",
    "        \n",
    "        # Show the frame\n",
    "        cv2.imshow(\"Video\", frame)\n",
    "\n",
    "        # Wait for the \"Enter\" key to be pressed\n",
    "        key = cv2.waitKey(0)\n",
    "        \n",
    "        # Check if the \"q\" key was pressed to quit\n",
    "        if key == ord('q'):\n",
    "            print(\"Exiting...\")\n",
    "            break\n",
    "        \n",
    "        # Move to the next frame if \"Enter\" is pressed\n",
    "        elif key == 13:  # Enter key\n",
    "            continue\n",
    "\n",
    "    # Release the video capture and close the display window\n",
    "    video.release()\n",
    "    cv2.destroyAllWindows()\n",
    "\n",
    "# Ask the user to specify the starting frame\n",
    "video_path = r\"C:\\Users\\thaim\\Downloads\\fps\\10-1- ארבע שניות אש\\aivideo_bbox_20241113_111523_813.mp4\"\n",
    "start_frame = int(input(\"Enter the starting frame number: \"))\n",
    "show_video_from_frame(video_path, start_frame)\n"
   ]
  },
  {
   "cell_type": "code",
   "execution_count": null,
   "metadata": {},
   "outputs": [],
   "source": []
  },
  {
   "cell_type": "code",
   "execution_count": 28,
   "metadata": {},
   "outputs": [
    {
     "name": "stdout",
     "output_type": "stream",
     "text": [
      "Starting from frame: 1\n",
      "Exiting...\n"
     ]
    }
   ],
   "source": [
    "import cv2\n",
    "\n",
    "def show_video_from_frame(video_path, start_frame=0):\n",
    "    # Open the video file\n",
    "    video = cv2.VideoCapture(video_path)\n",
    "\n",
    "    # Check if the video opened successfully\n",
    "    if not video.isOpened():\n",
    "        print(\"Error: Could not open video.\")\n",
    "        return\n",
    "    \n",
    "    # Set the starting frame\n",
    "    video.set(cv2.CAP_PROP_POS_FRAMES, start_frame)\n",
    "    print(f\"Starting from frame: {start_frame}\")\n",
    "\n",
    "    while True:\n",
    "        # Get the current frame number\n",
    "        current_frame = int(video.get(cv2.CAP_PROP_POS_FRAMES))\n",
    "        \n",
    "        # Read the current frame\n",
    "        ret, frame = video.read()\n",
    "        \n",
    "        # Break if no frame is read (end of video)\n",
    "        if not ret:\n",
    "            print(\"End of video.\")\n",
    "            break\n",
    "        \n",
    "        # Display the frame number on the video\n",
    "        cv2.putText(frame, f\"Frame: {current_frame}\", (10, 30), cv2.FONT_HERSHEY_SIMPLEX, 1, (255, 255, 255), 2)\n",
    "        \n",
    "        # Show the frame\n",
    "        cv2.imshow(\"Video\", frame)\n",
    "\n",
    "        # Wait for key press\n",
    "        key = cv2.waitKey(0)\n",
    "        \n",
    "        # Quit if \"q\" key is pressed\n",
    "        if key == ord('q'):\n",
    "            print(\"Exiting...\")\n",
    "            break\n",
    "        \n",
    "        # Move to the next frame if \"Enter\" is pressed\n",
    "        elif key == 13:  # Enter key\n",
    "            continue\n",
    "        \n",
    "        # Move to the previous frame if \"Backspace\" is pressed\n",
    "        elif key == 8:  # Backspace key\n",
    "            # Move back two frames so that the next read brings us to the previous frame\n",
    "            video.set(cv2.CAP_PROP_POS_FRAMES, max(0, current_frame - 2))\n",
    "\n",
    "    # Release the video capture and close the display window\n",
    "    video.release()\n",
    "    cv2.destroyAllWindows()\n",
    "\n",
    "# Ask the user to specify the starting frame\n",
    "video_path = r\"C:\\Users\\thaim\\Downloads\\fps\\1-0.5- ארבע שניות אש\\aivideo_bbox_20241113_121059_842.mp4\"\n",
    "start_frame = int(input(\"Enter the starting frame number: \"))\n",
    "show_video_from_frame(video_path, start_frame)\n"
   ]
  },
  {
   "cell_type": "code",
   "execution_count": null,
   "metadata": {},
   "outputs": [],
   "source": []
  }
 ],
 "metadata": {
  "kernelspec": {
   "display_name": "Python 3",
   "language": "python",
   "name": "python3"
  },
  "language_info": {
   "codemirror_mode": {
    "name": "ipython",
    "version": 3
   },
   "file_extension": ".py",
   "mimetype": "text/x-python",
   "name": "python",
   "nbconvert_exporter": "python",
   "pygments_lexer": "ipython3",
   "version": "3.12.6"
  }
 },
 "nbformat": 4,
 "nbformat_minor": 2
}
